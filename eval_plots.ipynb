{
 "cells": [
  {
   "cell_type": "code",
   "execution_count": 1,
   "metadata": {},
   "outputs": [],
   "source": [
    "import matplotlib as mpl, pandas as pd, seaborn as sns, numpy as np, itertools\n",
    "from matplotlib import pyplot as plt\n",
    "from SelfSuperReconst.utils import cprintm, cprintc, cprint1\n",
    "chained = lambda l: list(itertools.chain(*l))\n",
    "sns.set()\n",
    "sns.set_context(\"paper\", font_scale=1.4)"
   ]
  },
  {
   "cell_type": "code",
   "execution_count": 2,
   "metadata": {},
   "outputs": [
    {
     "data": {
      "text/html": [
       "<div>\n",
       "<style scoped>\n",
       "    .dataframe tbody tr th:only-of-type {\n",
       "        vertical-align: middle;\n",
       "    }\n",
       "\n",
       "    .dataframe tbody tr th {\n",
       "        vertical-align: top;\n",
       "    }\n",
       "\n",
       "    .dataframe thead th {\n",
       "        text-align: right;\n",
       "    }\n",
       "</style>\n",
       "<table border=\"1\" class=\"dataframe\">\n",
       "  <thead>\n",
       "    <tr style=\"text-align: right;\">\n",
       "      <th></th>\n",
       "      <th>exp_name</th>\n",
       "      <th>score</th>\n",
       "      <th>distance_metric_name</th>\n",
       "      <th>eval_depth</th>\n",
       "      <th>collapse_func</th>\n",
       "      <th>n_way</th>\n",
       "      <th>repeats</th>\n",
       "      <th>rank</th>\n",
       "    </tr>\n",
       "  </thead>\n",
       "  <tbody>\n",
       "    <tr>\n",
       "      <th>0</th>\n",
       "      <td>sub3_rgbd_noDE</td>\n",
       "      <td>[1.0, 1.0, 1.0, 0.8, 1.0, 1.0, 1.0, 1.0, 0.8, ...</td>\n",
       "      <td>perceptual_vgg_noncal</td>\n",
       "      <td>0</td>\n",
       "      <td></td>\n",
       "      <td>5</td>\n",
       "      <td>10</td>\n",
       "      <td>0</td>\n",
       "    </tr>\n",
       "    <tr>\n",
       "      <th>1</th>\n",
       "      <td>sub3_rgbd_noDE</td>\n",
       "      <td>[0.0, 0.0, 0.0, 0.05, 0.0, 0.0, 0.0, 0.0, 0.05...</td>\n",
       "      <td>perceptual_vgg_noncal</td>\n",
       "      <td>0</td>\n",
       "      <td></td>\n",
       "      <td>5</td>\n",
       "      <td>10</td>\n",
       "      <td>1</td>\n",
       "    </tr>\n",
       "    <tr>\n",
       "      <th>2</th>\n",
       "      <td>sub3_rgbd_noDE</td>\n",
       "      <td>[0.9, 1.0, 1.0, 0.8, 0.9, 0.9, 1.0, 1.0, 0.8, ...</td>\n",
       "      <td>perceptual_vgg_noncal</td>\n",
       "      <td>0</td>\n",
       "      <td></td>\n",
       "      <td>10</td>\n",
       "      <td>10</td>\n",
       "      <td>0</td>\n",
       "    </tr>\n",
       "    <tr>\n",
       "      <th>3</th>\n",
       "      <td>sub3_rgbd_noDE</td>\n",
       "      <td>[0.01111111111111111, 0.0, 0.0, 0.022222222222...</td>\n",
       "      <td>perceptual_vgg_noncal</td>\n",
       "      <td>0</td>\n",
       "      <td></td>\n",
       "      <td>10</td>\n",
       "      <td>10</td>\n",
       "      <td>1</td>\n",
       "    </tr>\n",
       "    <tr>\n",
       "      <th>4</th>\n",
       "      <td>sub3_rgb_only_noDE</td>\n",
       "      <td>[0.9, 1.0, 1.0, 1.0, 1.0, 1.0, 1.0, 1.0, 1.0, ...</td>\n",
       "      <td>perceptual_vgg_noncal</td>\n",
       "      <td>0</td>\n",
       "      <td></td>\n",
       "      <td>5</td>\n",
       "      <td>10</td>\n",
       "      <td>0</td>\n",
       "    </tr>\n",
       "    <tr>\n",
       "      <th>5</th>\n",
       "      <td>sub3_rgb_only_noDE</td>\n",
       "      <td>[0.025, 0.0, 0.0, 0.0, 0.0, 0.0, 0.0, 0.0, 0.0...</td>\n",
       "      <td>perceptual_vgg_noncal</td>\n",
       "      <td>0</td>\n",
       "      <td></td>\n",
       "      <td>5</td>\n",
       "      <td>10</td>\n",
       "      <td>1</td>\n",
       "    </tr>\n",
       "    <tr>\n",
       "      <th>6</th>\n",
       "      <td>sub3_rgb_only_noDE</td>\n",
       "      <td>[0.8, 1.0, 1.0, 1.0, 0.8, 0.9, 1.0, 1.0, 1.0, ...</td>\n",
       "      <td>perceptual_vgg_noncal</td>\n",
       "      <td>0</td>\n",
       "      <td></td>\n",
       "      <td>10</td>\n",
       "      <td>10</td>\n",
       "      <td>0</td>\n",
       "    </tr>\n",
       "    <tr>\n",
       "      <th>7</th>\n",
       "      <td>sub3_rgb_only_noDE</td>\n",
       "      <td>[0.03333333333333333, 0.0, 0.0, 0.0, 0.0222222...</td>\n",
       "      <td>perceptual_vgg_noncal</td>\n",
       "      <td>0</td>\n",
       "      <td></td>\n",
       "      <td>10</td>\n",
       "      <td>10</td>\n",
       "      <td>1</td>\n",
       "    </tr>\n",
       "    <tr>\n",
       "      <th>8</th>\n",
       "      <td>sub3_rgbd_noDE</td>\n",
       "      <td>[1.0, 1.0, 1.0, 0.9, 0.8, 0.9, 1.0, 1.0, 0.5, ...</td>\n",
       "      <td>perceptual_vgg_noncal_depth</td>\n",
       "      <td>1</td>\n",
       "      <td></td>\n",
       "      <td>5</td>\n",
       "      <td>10</td>\n",
       "      <td>0</td>\n",
       "    </tr>\n",
       "    <tr>\n",
       "      <th>9</th>\n",
       "      <td>sub3_rgbd_noDE</td>\n",
       "      <td>[0.0, 0.0, 0.0, 0.025, 0.05, 0.025, 0.0, 0.0, ...</td>\n",
       "      <td>perceptual_vgg_noncal_depth</td>\n",
       "      <td>1</td>\n",
       "      <td></td>\n",
       "      <td>5</td>\n",
       "      <td>10</td>\n",
       "      <td>1</td>\n",
       "    </tr>\n",
       "    <tr>\n",
       "      <th>10</th>\n",
       "      <td>sub3_rgbd_noDE</td>\n",
       "      <td>[0.9, 1.0, 1.0, 0.9, 0.4, 0.9, 1.0, 1.0, 0.4, ...</td>\n",
       "      <td>perceptual_vgg_noncal_depth</td>\n",
       "      <td>1</td>\n",
       "      <td></td>\n",
       "      <td>10</td>\n",
       "      <td>10</td>\n",
       "      <td>0</td>\n",
       "    </tr>\n",
       "    <tr>\n",
       "      <th>11</th>\n",
       "      <td>sub3_rgbd_noDE</td>\n",
       "      <td>[0.01111111111111111, 0.0, 0.0, 0.011111111111...</td>\n",
       "      <td>perceptual_vgg_noncal_depth</td>\n",
       "      <td>1</td>\n",
       "      <td></td>\n",
       "      <td>10</td>\n",
       "      <td>10</td>\n",
       "      <td>1</td>\n",
       "    </tr>\n",
       "    <tr>\n",
       "      <th>12</th>\n",
       "      <td>sub3_depth_only_noDE</td>\n",
       "      <td>[1.0, 1.0, 1.0, 0.9, 0.8, 0.7, 1.0, 1.0, 1.0, ...</td>\n",
       "      <td>perceptual_vgg_noncal_depth</td>\n",
       "      <td>1</td>\n",
       "      <td></td>\n",
       "      <td>5</td>\n",
       "      <td>10</td>\n",
       "      <td>0</td>\n",
       "    </tr>\n",
       "    <tr>\n",
       "      <th>13</th>\n",
       "      <td>sub3_depth_only_noDE</td>\n",
       "      <td>[0.0, 0.0, 0.0, 0.025, 0.075, 0.075, 0.0, 0.0,...</td>\n",
       "      <td>perceptual_vgg_noncal_depth</td>\n",
       "      <td>1</td>\n",
       "      <td></td>\n",
       "      <td>5</td>\n",
       "      <td>10</td>\n",
       "      <td>1</td>\n",
       "    </tr>\n",
       "    <tr>\n",
       "      <th>14</th>\n",
       "      <td>sub3_depth_only_noDE</td>\n",
       "      <td>[1.0, 0.8, 1.0, 0.9, 0.5, 0.5, 1.0, 1.0, 0.4, ...</td>\n",
       "      <td>perceptual_vgg_noncal_depth</td>\n",
       "      <td>1</td>\n",
       "      <td></td>\n",
       "      <td>10</td>\n",
       "      <td>10</td>\n",
       "      <td>0</td>\n",
       "    </tr>\n",
       "    <tr>\n",
       "      <th>15</th>\n",
       "      <td>sub3_depth_only_noDE</td>\n",
       "      <td>[0.0, 0.02222222222222222, 0.0, 0.011111111111...</td>\n",
       "      <td>perceptual_vgg_noncal_depth</td>\n",
       "      <td>1</td>\n",
       "      <td></td>\n",
       "      <td>10</td>\n",
       "      <td>10</td>\n",
       "      <td>1</td>\n",
       "    </tr>\n",
       "  </tbody>\n",
       "</table>\n",
       "</div>"
      ],
      "text/plain": [
       "                exp_name                                              score  \\\n",
       "0         sub3_rgbd_noDE  [1.0, 1.0, 1.0, 0.8, 1.0, 1.0, 1.0, 1.0, 0.8, ...   \n",
       "1         sub3_rgbd_noDE  [0.0, 0.0, 0.0, 0.05, 0.0, 0.0, 0.0, 0.0, 0.05...   \n",
       "2         sub3_rgbd_noDE  [0.9, 1.0, 1.0, 0.8, 0.9, 0.9, 1.0, 1.0, 0.8, ...   \n",
       "3         sub3_rgbd_noDE  [0.01111111111111111, 0.0, 0.0, 0.022222222222...   \n",
       "4     sub3_rgb_only_noDE  [0.9, 1.0, 1.0, 1.0, 1.0, 1.0, 1.0, 1.0, 1.0, ...   \n",
       "5     sub3_rgb_only_noDE  [0.025, 0.0, 0.0, 0.0, 0.0, 0.0, 0.0, 0.0, 0.0...   \n",
       "6     sub3_rgb_only_noDE  [0.8, 1.0, 1.0, 1.0, 0.8, 0.9, 1.0, 1.0, 1.0, ...   \n",
       "7     sub3_rgb_only_noDE  [0.03333333333333333, 0.0, 0.0, 0.0, 0.0222222...   \n",
       "8         sub3_rgbd_noDE  [1.0, 1.0, 1.0, 0.9, 0.8, 0.9, 1.0, 1.0, 0.5, ...   \n",
       "9         sub3_rgbd_noDE  [0.0, 0.0, 0.0, 0.025, 0.05, 0.025, 0.0, 0.0, ...   \n",
       "10        sub3_rgbd_noDE  [0.9, 1.0, 1.0, 0.9, 0.4, 0.9, 1.0, 1.0, 0.4, ...   \n",
       "11        sub3_rgbd_noDE  [0.01111111111111111, 0.0, 0.0, 0.011111111111...   \n",
       "12  sub3_depth_only_noDE  [1.0, 1.0, 1.0, 0.9, 0.8, 0.7, 1.0, 1.0, 1.0, ...   \n",
       "13  sub3_depth_only_noDE  [0.0, 0.0, 0.0, 0.025, 0.075, 0.075, 0.0, 0.0,...   \n",
       "14  sub3_depth_only_noDE  [1.0, 0.8, 1.0, 0.9, 0.5, 0.5, 1.0, 1.0, 0.4, ...   \n",
       "15  sub3_depth_only_noDE  [0.0, 0.02222222222222222, 0.0, 0.011111111111...   \n",
       "\n",
       "           distance_metric_name  eval_depth collapse_func  n_way  repeats  \\\n",
       "0         perceptual_vgg_noncal           0                    5       10   \n",
       "1         perceptual_vgg_noncal           0                    5       10   \n",
       "2         perceptual_vgg_noncal           0                   10       10   \n",
       "3         perceptual_vgg_noncal           0                   10       10   \n",
       "4         perceptual_vgg_noncal           0                    5       10   \n",
       "5         perceptual_vgg_noncal           0                    5       10   \n",
       "6         perceptual_vgg_noncal           0                   10       10   \n",
       "7         perceptual_vgg_noncal           0                   10       10   \n",
       "8   perceptual_vgg_noncal_depth           1                    5       10   \n",
       "9   perceptual_vgg_noncal_depth           1                    5       10   \n",
       "10  perceptual_vgg_noncal_depth           1                   10       10   \n",
       "11  perceptual_vgg_noncal_depth           1                   10       10   \n",
       "12  perceptual_vgg_noncal_depth           1                    5       10   \n",
       "13  perceptual_vgg_noncal_depth           1                    5       10   \n",
       "14  perceptual_vgg_noncal_depth           1                   10       10   \n",
       "15  perceptual_vgg_noncal_depth           1                   10       10   \n",
       "\n",
       "    rank  \n",
       "0      0  \n",
       "1      1  \n",
       "2      0  \n",
       "3      1  \n",
       "4      0  \n",
       "5      1  \n",
       "6      0  \n",
       "7      1  \n",
       "8      0  \n",
       "9      1  \n",
       "10     0  \n",
       "11     1  \n",
       "12     0  \n",
       "13     1  \n",
       "14     0  \n",
       "15     1  "
      ]
     },
     "execution_count": 2,
     "metadata": {},
     "output_type": "execute_result"
    }
   ],
   "source": [
    "df = pd.read_pickle('eval_results/eval.pkl')\n",
    "df"
   ]
  },
  {
   "cell_type": "markdown",
   "metadata": {},
   "source": [
    "### RGB only recovery"
   ]
  },
  {
   "cell_type": "code",
   "execution_count": 3,
   "metadata": {},
   "outputs": [
    {
     "name": "stderr",
     "output_type": "stream",
     "text": [
      "/home/guyga/.conda/envs/guyga-gpu-new/lib/python3.6/site-packages/pandas/core/generic.py:5168: SettingWithCopyWarning: \n",
      "A value is trying to be set on a copy of a slice from a DataFrame.\n",
      "Try using .loc[row_indexer,col_indexer] = value instead\n",
      "\n",
      "See the caveats in the documentation: https://pandas.pydata.org/pandas-docs/stable/user_guide/indexing.html#returning-a-view-versus-a-copy\n",
      "  self[name] = value\n"
     ]
    },
    {
     "data": {
      "text/plain": [
       "array(['rgb_only_noDE'], dtype=object)"
      ]
     },
     "execution_count": 3,
     "metadata": {},
     "output_type": "execute_result"
    }
   ],
   "source": [
    "target_exps = chained([\n",
    "    f'sub{sbj_num}_rgb_only_noDE',\n",
    "    ] for sbj_num in [3])\n",
    "\n",
    "my_df = df[(df.collapse_func == '') & (df.n_way > 0) & \\\n",
    "           (df.n_way <= 1000) & (df.repeats.isin([10])) & \\\n",
    "          (df.exp_name.isin(target_exps)) & \\\n",
    "#           (df['rank'] == 1) & \\\n",
    "           (df.distance_metric_name == 'perceptual_vgg_noncal') & \\\n",
    "           (df.eval_depth == 0)\n",
    "          ]\n",
    "\n",
    "fn = lambda x: '_'.join(x.split('_')[1:])\n",
    "my_df.exp_name = my_df.exp_name.apply(fn)\n",
    "my_df = my_df.explode('score')\n",
    "my_df.loc[my_df['rank']==1, 'score'] = my_df[my_df['rank']==1].score * (my_df[my_df['rank']==1].n_way - 1) + 1\n",
    "my_df.exp_name.unique()"
   ]
  },
  {
   "cell_type": "code",
   "execution_count": 4,
   "metadata": {},
   "outputs": [
    {
     "name": "stderr",
     "output_type": "stream",
     "text": [
      "/home/guyga/.conda/envs/guyga-gpu-new/lib/python3.6/site-packages/scipy/stats/stats.py:1713: FutureWarning: Using a non-tuple sequence for multidimensional indexing is deprecated; use `arr[tuple(seq)]` instead of `arr[seq]`. In the future this will be interpreted as an array index, `arr[np.array(seq)]`, which will result either in an error or a different result.\n",
      "  return np.add.reduce(sorted[indexer] * weights, axis=axis) / sumval\n"
     ]
    },
    {
     "name": "stdout",
     "output_type": "stream",
     "text": [
      "\u001b[35mn_way  exp_name     \n",
      "5      rgb_only_noDE    1.0\n",
      "10     rgb_only_noDE    1.0\n",
      "Name: score, dtype: float64\u001b[0m\n"
     ]
    },
    {
     "data": {
      "text/plain": [
       "Text(0.5, 0.98, 'RGB-only identification accuracy/rank for subject 3 (higher/lower is better)')"
      ]
     },
     "execution_count": 4,
     "metadata": {},
     "output_type": "execute_result"
    },
    {
     "data": {
      "image/png": "[encoded data removed]",
      "text/plain": [
       "<Figure size 576x288 with 2 Axes>"
      ]
     },
     "metadata": {
      "needs_background": "light"
     },
     "output_type": "display_data"
    }
   ],
   "source": [
    "g = sns.catplot(x='n_way', y='score', hue='exp_name', col='rank', kind=\"bar\", data=my_df, legend=False, legend_out=True, sharey=False)\n",
    "g.set_titles(col_template='rank={col_name}')\n",
    "\n",
    "plt.gcf().set_size_inches(8, 4)\n",
    "plt.gcf().tight_layout(rect=[0, 0.03, 1, 0.96])\n",
    "\n",
    "ax1 = g.axes[0][0]\n",
    "nways = np.unique(my_df.n_way.values)\n",
    "\n",
    "plt.minorticks_on()\n",
    "ax1.grid(axis='y', which='minor', color='#999999', linewidth=.3, alpha=0.3)\n",
    "\n",
    "my_df.score = my_df.score.astype(float)\n",
    "\n",
    "cprintm(my_df.groupby(['n_way', 'exp_name']).mean().score.round())\n",
    "plt.suptitle(f'RGB-only identification accuracy/rank for subject 3 (higher/lower is better)')"
   ]
  },
  {
   "cell_type": "markdown",
   "metadata": {},
   "source": [
    "### Depth identification (DepthRecoveryOptions)"
   ]
  },
  {
   "cell_type": "code",
   "execution_count": 5,
   "metadata": {},
   "outputs": [
    {
     "name": "stderr",
     "output_type": "stream",
     "text": [
      "/home/guyga/.conda/envs/guyga-gpu-new/lib/python3.6/site-packages/pandas/core/generic.py:5168: SettingWithCopyWarning: \n",
      "A value is trying to be set on a copy of a slice from a DataFrame.\n",
      "Try using .loc[row_indexer,col_indexer] = value instead\n",
      "\n",
      "See the caveats in the documentation: https://pandas.pydata.org/pandas-docs/stable/user_guide/indexing.html#returning-a-view-versus-a-copy\n",
      "  self[name] = value\n"
     ]
    },
    {
     "data": {
      "text/plain": [
       "array(['rgbd_noDE', 'depth_only_noDE'], dtype=object)"
      ]
     },
     "execution_count": 5,
     "metadata": {},
     "output_type": "execute_result"
    }
   ],
   "source": [
    "target_exps = chained([\n",
    "    f'sub{sbj_num}_rgbd_noDE',\n",
    "    f'sub{sbj_num}_depth_only_noDE',\n",
    "#     f'sub{sbj_num}_rgb_only_noDE',\n",
    "# ] for sbj_num in [1,2,3,4,5])\n",
    "    ] for sbj_num in [3])\n",
    "\n",
    "my_df = df[(df.collapse_func == '') & (df.n_way > 0) & \\\n",
    "           (df.n_way <= 1000) & (df.repeats.isin([10])) & \\\n",
    "          (df.exp_name.isin(target_exps)) & \\\n",
    "#           (df['rank'] == 1) & \\\n",
    "           (df.distance_metric_name == 'perceptual_vgg_noncal_depth') & \\\n",
    "           (df.eval_depth == 1)\n",
    "          ]\n",
    "\n",
    "fn = lambda x: '_'.join(x.split('_')[1:])\n",
    "my_df.exp_name = my_df.exp_name.apply(fn)\n",
    "my_df = my_df.explode('score')\n",
    "my_df.loc[my_df['rank']==1, 'score'] = my_df[my_df['rank']==1].score * (my_df[my_df['rank']==1].n_way - 1) + 1\n",
    "my_df.exp_name.unique()"
   ]
  },
  {
   "cell_type": "code",
   "execution_count": 6,
   "metadata": {},
   "outputs": [
    {
     "name": "stderr",
     "output_type": "stream",
     "text": [
      "/home/guyga/.conda/envs/guyga-gpu-new/lib/python3.6/site-packages/scipy/stats/stats.py:1713: FutureWarning: Using a non-tuple sequence for multidimensional indexing is deprecated; use `arr[tuple(seq)]` instead of `arr[seq]`. In the future this will be interpreted as an array index, `arr[np.array(seq)]`, which will result either in an error or a different result.\n",
      "  return np.add.reduce(sorted[indexer] * weights, axis=axis) / sumval\n"
     ]
    },
    {
     "name": "stdout",
     "output_type": "stream",
     "text": [
      "\u001b[35mn_way  exp_name       \n",
      "5      depth_only_noDE    1.0\n",
      "       rgbd_noDE          1.0\n",
      "10     depth_only_noDE    1.0\n",
      "       rgbd_noDE          1.0\n",
      "Name: score, dtype: float64\u001b[0m\n"
     ]
    },
    {
     "data": {
      "text/plain": [
       "Text(0.5, 0.98, 'DEPTH identification accuracy/rank across methods for subject 3 (higher/lower is better)')"
      ]
     },
     "execution_count": 6,
     "metadata": {},
     "output_type": "execute_result"
    },
    {
     "data": {
      "image/png": "[encoded data removed]",
      "text/plain": [
       "<Figure size 720x288 with 2 Axes>"
      ]
     },
     "metadata": {
      "needs_background": "light"
     },
     "output_type": "display_data"
    }
   ],
   "source": [
    "g = sns.catplot(x='n_way', y='score', hue='exp_name', col='rank', kind=\"bar\", data=my_df, legend=False, legend_out=True, sharey=False)\n",
    "g.set_titles(col_template='rank={col_name}')\n",
    "\n",
    "plt.gcf().set_size_inches(10, 4)\n",
    "plt.gcf().tight_layout(rect=[0, 0.03, 1, 0.96])\n",
    "\n",
    "ax1 = g.axes[0][0]\n",
    "nways = np.unique(my_df.n_way.values)\n",
    "\n",
    "plt.minorticks_on()\n",
    "ax1.grid(axis='y', which='minor', color='#999999', linewidth=.3, alpha=0.3)\n",
    "\n",
    "my_df.score = my_df.score.astype(float)\n",
    "\n",
    "cprintm(my_df.groupby(['n_way', 'exp_name']).mean().score.round())\n",
    "plt.suptitle(f'DEPTH identification accuracy/rank across methods for subject 3 (higher/lower is better)')"
   ]
  },
  {
   "cell_type": "code",
   "execution_count": null,
   "metadata": {},
   "outputs": [],
   "source": []
  }
 ],
 "metadata": {
  "kernelspec": {
   "display_name": "Python 3.6.7 64-bit ('guyga-gpu-new': conda)",
   "language": "python",
   "name": "python36764bitguygagpunewconda2dcd6a112da643ecb4e0399b1705acd7"
  },
  "language_info": {
   "codemirror_mode": {
    "name": "ipython",
    "version": 3
   },
   "file_extension": ".py",
   "mimetype": "text/x-python",
   "name": "python",
   "nbconvert_exporter": "python",
   "pygments_lexer": "ipython3",
   "version": "3.6.7"
  }
 },
 "nbformat": 4,
 "nbformat_minor": 2
}
